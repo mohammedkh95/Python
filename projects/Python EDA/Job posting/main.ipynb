{
 "cells": [
  {
   "cell_type": "code",
   "execution_count": 258,
   "id": "ecd21bf9",
   "metadata": {},
   "outputs": [],
   "source": [
    "import pandas as pd\n",
    "import numpy as np"
   ]
  },
  {
   "cell_type": "code",
   "execution_count": 259,
   "id": "d162b978",
   "metadata": {},
   "outputs": [],
   "source": [
    "df = pd.read_csv(r'C:\\Users\\moham\\OneDrive\\Desktop\\Python\\DA\\Job posting\\Uncleaned_DS_jobs.csv', encoding='utf-8-sig')\n",
    "#df.shape (672, 15)"
   ]
  },
  {
   "cell_type": "code",
   "execution_count": 267,
   "id": "1aff7c7e",
   "metadata": {},
   "outputs": [
    {
     "name": "stdout",
     "output_type": "stream",
     "text": [
      "<class 'pandas.core.frame.DataFrame'>\n",
      "Index: 551 entries, 0 to 658\n",
      "Data columns (total 13 columns):\n",
      " #   Column             Non-Null Count  Dtype  \n",
      "---  ------             --------------  -----  \n",
      " 0   Job Title          551 non-null    object \n",
      " 1   Salary Estimate    551 non-null    object \n",
      " 2   Job Description    551 non-null    object \n",
      " 3   Rating             551 non-null    float64\n",
      " 4   Company Name       551 non-null    object \n",
      " 5   Location           551 non-null    object \n",
      " 6   Size               551 non-null    object \n",
      " 7   Founded            551 non-null    object \n",
      " 8   Type of ownership  551 non-null    object \n",
      " 9   Industry           551 non-null    object \n",
      " 10  Sector             551 non-null    object \n",
      " 11  Revenue            551 non-null    object \n",
      " 12  Competitors        551 non-null    object \n",
      "dtypes: float64(1), object(12)\n",
      "memory usage: 60.3+ KB\n"
     ]
    }
   ],
   "source": [
    "df.info()\n",
    "\n",
    "# no missing values but include irregular values (must clean)\n",
    "# column datatype correct\n",
    "# drop index to use pandas' index"
   ]
  },
  {
   "cell_type": "code",
   "execution_count": 261,
   "id": "ef603439",
   "metadata": {},
   "outputs": [],
   "source": [
    "# df['Job Title'].unique()\n",
    "# df['Salary Estimate'].unique()\n",
    "# df['Job Description'].unique()\n",
    "# df['Rating'].unique()\n",
    "# df['Company Name'].unique()\n",
    "# df['Location'].unique()\n",
    "# df['Headquarters'].unique()\n",
    "# df['Size'].unique()\n",
    "# df['Founded'].unique()\n",
    "# df['Type of ownership'].unique()\n",
    "# df['Industry'].unique()\n",
    "# df['Sector'].unique()\n",
    "# df['Revenue'].unique()\n",
    "# df['Competitors'].unique()\n",
    "\n",
    "# COLUMNS NEED CLEANING\n",
    "# SOME NEED TO BE DROPPED\n"
   ]
  },
  {
   "cell_type": "code",
   "execution_count": 262,
   "id": "d09a170b",
   "metadata": {},
   "outputs": [],
   "source": [
    "# drop unwanted columns\n",
    "df.drop(columns=['index','Headquarters'], inplace=True)"
   ]
  },
  {
   "cell_type": "code",
   "execution_count": 263,
   "id": "1f081a20",
   "metadata": {},
   "outputs": [],
   "source": [
    "# Cleaning columns\n",
    "\n",
    "df['Salary Estimate'] = df['Salary Estimate'].str.replace(r'\\(.*\\)','',regex=True)\n",
    "df['Revenue'] = df['Revenue'].str.replace(r'\\(.*\\)','',regex=True)\n",
    "df['Company Name'] = df['Company Name'].str.replace(r'\\n.*', '', regex=True)\n",
    "df['Rating'] = df['Rating'].replace(-1, np.nan)\n",
    "df['Size'] = df['Size'].replace('-1', 'Not Available')\n",
    "df['Founded'] = df['Founded'].replace(-1, pd.NA)\n",
    "df['Type of ownership'] = df['Type of ownership'].replace('-1', 'Not Available')\n",
    "df['Industry'] = df['Industry'].replace('-1', 'Not Available')\n",
    "df['Sector'] = df['Sector'].replace('-1', 'Not Available')\n",
    "df['Revenue'] = df['Revenue'].replace({'Unknown / Non-Applicable': 'Not Available','-1': 'Not Available'})\n",
    "df['Competitors'] = df['Competitors'].replace('-1', 'Not Available')\n",
    "df['Type of ownership'] = df['Type of ownership'].replace({'Company - Public': 'Public','Company - Private': 'Private', 'Nonprofit Organization' : 'Non Profit'})"
   ]
  },
  {
   "cell_type": "code",
   "execution_count": 264,
   "id": "42c8f177",
   "metadata": {},
   "outputs": [],
   "source": [
    "df = df.drop_duplicates()\n",
    "df = df.reset_index(drop=True)"
   ]
  },
  {
   "cell_type": "code",
   "execution_count": 265,
   "id": "28dad0db",
   "metadata": {},
   "outputs": [],
   "source": [
    "df = df.dropna()"
   ]
  },
  {
   "cell_type": "code",
   "execution_count": 266,
   "id": "a9e538c1",
   "metadata": {},
   "outputs": [],
   "source": [
    "df.to_excel('cleaned_DS_jobs.xlsx', index=False)"
   ]
  }
 ],
 "metadata": {
  "kernelspec": {
   "display_name": "Python 3",
   "language": "python",
   "name": "python3"
  },
  "language_info": {
   "codemirror_mode": {
    "name": "ipython",
    "version": 3
   },
   "file_extension": ".py",
   "mimetype": "text/x-python",
   "name": "python",
   "nbconvert_exporter": "python",
   "pygments_lexer": "ipython3",
   "version": "3.11.9"
  }
 },
 "nbformat": 4,
 "nbformat_minor": 5
}
